{
  "nbformat": 4,
  "nbformat_minor": 0,
  "metadata": {
    "colab": {
      "name": "ICS_DH.ipynb",
      "provenance": [],
      "authorship_tag": "ABX9TyPBt19Xzv/b4oTPOTJBbMjt",
      "include_colab_link": true
    },
    "kernelspec": {
      "name": "python3",
      "display_name": "Python 3"
    },
    "language_info": {
      "name": "python"
    }
  },
  "cells": [
    {
      "cell_type": "markdown",
      "metadata": {
        "id": "view-in-github",
        "colab_type": "text"
      },
      "source": [
        "<a href=\"https://colab.research.google.com/github/Draken19/ICS/blob/main/ICS_DH.ipynb\" target=\"_parent\"><img src=\"https://colab.research.google.com/assets/colab-badge.svg\" alt=\"Open In Colab\"/></a>"
      ]
    },
    {
      "cell_type": "code",
      "execution_count": 2,
      "metadata": {
        "colab": {
          "base_uri": "https://localhost:8080/"
        },
        "id": "TRNH9TCCfa5r",
        "outputId": "dd7d232d-575f-4669-fc70-89a8483e67af"
      },
      "outputs": [
        {
          "output_type": "stream",
          "name": "stdout",
          "text": [
            "Enter shared Prime(n):11\n",
            "Enter shared Base(g):7\n",
            "Enter Alice Secret Key(x):3\n",
            "Enter Bob Secret Key(y):6\n",
            "Publicly Shared Variables:\n",
            "    Publicly Shared Prime:  11\n",
            "    Publicly Shared Base:   7\n"
          ]
        }
      ],
      "source": [
        "#Diffie Hellman Key Exchange Alogorithm\n",
        "# Begin\n",
        "\n",
        "sharedPrime = int(input(\"Enter shared Prime(n):\"))\n",
        "sharedBase = int(input(\"Enter shared Base(g):\"))\n",
        "aliceSecret = int(input(\"Enter Alice Secret Key(x):\"))\n",
        "bobSecret = int(input(\"Enter Bob Secret Key(y):\"))\n",
        "print( \"Publicly Shared Variables:\")\n",
        "print( \"    Publicly Shared Prime: \" , sharedPrime )\n",
        "print( \"    Publicly Shared Base:  \" , sharedBase )"
      ]
    },
    {
      "cell_type": "code",
      "source": [
        "# Alice Sends Bob A = g^x mod n\n",
        "\n",
        "A = (sharedBase**aliceSecret) % sharedPrime\n",
        "print( \"\\n  Alice Sends(A) Over Public Chanel: \" , A )"
      ],
      "metadata": {
        "colab": {
          "base_uri": "https://localhost:8080/"
        },
        "id": "bd99qd3yf5wl",
        "outputId": "c4cc8dae-e576-4234-fd99-524a29dacf0c"
      },
      "execution_count": 3,
      "outputs": [
        {
          "output_type": "stream",
          "name": "stdout",
          "text": [
            "\n",
            "  Alice Sends(A) Over Public Chanel:  2\n"
          ]
        }
      ]
    },
    {
      "cell_type": "code",
      "source": [
        "# Bob Sends Alice B = g^y mod n\n",
        "\n",
        "B = (sharedBase**bobSecret) % sharedPrime\n",
        "print( \"\\n Bob Sends(B) Over Public Chanel: \", B)"
      ],
      "metadata": {
        "colab": {
          "base_uri": "https://localhost:8080/"
        },
        "id": "gATkHTyBguGc",
        "outputId": "49d63c11-57b8-4b63-9ec4-8839d085a6a6"
      },
      "execution_count": 4,
      "outputs": [
        {
          "output_type": "stream",
          "name": "stdout",
          "text": [
            "\n",
            " Bob Sends(B) Over Public Chanel:  4\n"
          ]
        }
      ]
    },
    {
      "cell_type": "code",
      "source": [
        "print( \"Privately Calculated Shared Secret:\" )\n",
        "\n",
        "# Alice Computes Shared Secret: K1 = B^x mod n\n",
        "\n",
        "aliceSharedSecret = (B ** aliceSecret) % sharedPrime\n",
        "print( \"    Alice Shared Secret: \", aliceSharedSecret )"
      ],
      "metadata": {
        "colab": {
          "base_uri": "https://localhost:8080/"
        },
        "id": "dgSq3fqyhM_p",
        "outputId": "73d48c54-12f3-4233-fc95-2345d97dc772"
      },
      "execution_count": 7,
      "outputs": [
        {
          "output_type": "stream",
          "name": "stdout",
          "text": [
            "Privately Calculated Shared Secret:\n",
            "    Alice Shared Secret:  9\n"
          ]
        }
      ]
    },
    {
      "cell_type": "code",
      "source": [
        "# Bob Computes Shared Secret: K2 = A^y mod n\n",
        "\n",
        "bobSharedSecret = (A**bobSecret) % sharedPrime\n",
        "print( \"    Bob Shared Secret: \", bobSharedSecret )"
      ],
      "metadata": {
        "colab": {
          "base_uri": "https://localhost:8080/"
        },
        "id": "7YQGIAR5hgY2",
        "outputId": "0e07d2bd-ac62-4578-a907-476be8f2e538"
      },
      "execution_count": 8,
      "outputs": [
        {
          "output_type": "stream",
          "name": "stdout",
          "text": [
            "    Bob Shared Secret:  9\n"
          ]
        }
      ]
    }
  ]
}