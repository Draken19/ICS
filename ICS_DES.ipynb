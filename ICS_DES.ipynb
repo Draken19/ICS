{
  "nbformat": 4,
  "nbformat_minor": 0,
  "metadata": {
    "colab": {
      "name": "ICS_DES.ipynb",
      "provenance": [],
      "collapsed_sections": [],
      "authorship_tag": "ABX9TyPyN/STXwHyJBGi97fYAI4V",
      "include_colab_link": true
    },
    "kernelspec": {
      "name": "python3",
      "display_name": "Python 3"
    },
    "language_info": {
      "name": "python"
    }
  },
  "cells": [
    {
      "cell_type": "markdown",
      "metadata": {
        "id": "view-in-github",
        "colab_type": "text"
      },
      "source": [
        "<a href=\"https://colab.research.google.com/github/Draken19/ICS/blob/main/ICS_DES.ipynb\" target=\"_parent\"><img src=\"https://colab.research.google.com/assets/colab-badge.svg\" alt=\"Open In Colab\"/></a>"
      ]
    },
    {
      "cell_type": "code",
      "execution_count": null,
      "metadata": {
        "id": "h2DBioRw2ulV"
      },
      "outputs": [],
      "source": [
        "import pyDes\n",
        "from time import time"
      ]
    },
    {
      "cell_type": "code",
      "source": [
        "!pip install pyDes"
      ],
      "metadata": {
        "colab": {
          "base_uri": "https://localhost:8080/"
        },
        "id": "olIyG0jz3lup",
        "outputId": "7bb0da96-3dde-45a7-c5ef-ac8c21f26e27"
      },
      "execution_count": null,
      "outputs": [
        {
          "output_type": "stream",
          "name": "stdout",
          "text": [
            "Looking in indexes: https://pypi.org/simple, https://us-python.pkg.dev/colab-wheels/public/simple/\n",
            "Collecting pyDes\n",
            "  Downloading pyDes-2.0.1.tar.gz (9.9 kB)\n",
            "Building wheels for collected packages: pyDes\n",
            "  Building wheel for pyDes (setup.py) ... \u001b[?25l\u001b[?25hdone\n",
            "  Created wheel for pyDes: filename=pyDes-2.0.1-py2.py3-none-any.whl size=9566 sha256=dc2302ca01c8b6377f4ee2aa39578314ff4a58f77eb81fa099bfe6ffacd9b926\n",
            "  Stored in directory: /root/.cache/pip/wheels/57/45/3a/cd3cffc8044aa6b8670109a57db784cc7c64dc52259a11575a\n",
            "Successfully built pyDes\n",
            "Installing collected packages: pyDes\n",
            "Successfully installed pyDes-2.0.1\n"
          ]
        }
      ]
    },
    {
      "cell_type": "code",
      "source": [
        "data = input(\"Please enter plain text for encryption:\")\n",
        "keystring=input(\"Enter 16/24 byte string for key generation:\")"
      ],
      "metadata": {
        "colab": {
          "base_uri": "https://localhost:8080/"
        },
        "id": "cJyberOu94rf",
        "outputId": "037c4d1e-dcef-418f-8478-df6cb3cdf533"
      },
      "execution_count": null,
      "outputs": [
        {
          "name": "stdout",
          "output_type": "stream",
          "text": [
            "Please enter plain text for encryption:12345678\n",
            "Enter 16/24 byte string for key generation:1234567891234567\n"
          ]
        }
      ]
    },
    {
      "cell_type": "code",
      "source": [
        "k = pyDes.triple_des(keystring, padmode=pyDes.PAD_PKCS5)\n",
        "e = k.encrypt(data)\n",
        "print (\"cipher text: %r\" % e)"
      ],
      "metadata": {
        "colab": {
          "base_uri": "https://localhost:8080/"
        },
        "id": "oVWnGNy1-RD5",
        "outputId": "c8bc7102-9973-4fb4-bee3-8fc6b623d65f"
      },
      "execution_count": null,
      "outputs": [
        {
          "output_type": "stream",
          "name": "stdout",
          "text": [
            "cipher text: b'r1\\x80\\xbf\\x8e\\xb7\\rm!\\x05\\xf1\\xc0\\x12\\xaf\\xf0n'\n"
          ]
        }
      ]
    },
    {
      "cell_type": "code",
      "source": [
        "print (\"plain text: %r\" % k.decrypt(e))\n",
        "t1 = time()\n",
        "for i in range(1000):\n",
        "     e = k.encrypt(data)\n",
        "t2 = time()\n",
        "print(\"Elapsed time for 1,000 encryptions: {:0.3f}s\".format(t2 - t1))\n"
      ],
      "metadata": {
        "colab": {
          "base_uri": "https://localhost:8080/"
        },
        "id": "P2RkebwZ_H6J",
        "outputId": "6ac2455a-dd0f-4c68-e035-44c61a1412ea"
      },
      "execution_count": null,
      "outputs": [
        {
          "output_type": "stream",
          "name": "stdout",
          "text": [
            "plain text: b'12345678'\n",
            "Elapsed time for 1,000 encryptions: 3.230s\n"
          ]
        }
      ]
    }
  ]
}