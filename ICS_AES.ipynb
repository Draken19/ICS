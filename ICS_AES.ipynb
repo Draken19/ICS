{
  "nbformat": 4,
  "nbformat_minor": 0,
  "metadata": {
    "colab": {
      "name": "ICS_AES.ipynb",
      "provenance": [],
      "collapsed_sections": [],
      "authorship_tag": "ABX9TyN2lYPTKxrJ/kbODEb20sW+",
      "include_colab_link": true
    },
    "kernelspec": {
      "name": "python3",
      "display_name": "Python 3"
    },
    "language_info": {
      "name": "python"
    }
  },
  "cells": [
    {
      "cell_type": "markdown",
      "metadata": {
        "id": "view-in-github",
        "colab_type": "text"
      },
      "source": [
        "<a href=\"https://colab.research.google.com/github/Draken19/ICS/blob/main/ICS_AES.ipynb\" target=\"_parent\"><img src=\"https://colab.research.google.com/assets/colab-badge.svg\" alt=\"Open In Colab\"/></a>"
      ]
    },
    {
      "cell_type": "code",
      "execution_count": null,
      "metadata": {
        "id": "h4d_tdMnGtr9"
      },
      "outputs": [],
      "source": [
        "from Crypto.Cipher import AES"
      ]
    },
    {
      "cell_type": "code",
      "source": [
        "!pip install pycrypto"
      ],
      "metadata": {
        "colab": {
          "base_uri": "https://localhost:8080/"
        },
        "id": "-ucfURyAHLkt",
        "outputId": "e40976f1-1d06-455f-9e1b-e11defd6539b"
      },
      "execution_count": null,
      "outputs": [
        {
          "output_type": "stream",
          "name": "stdout",
          "text": [
            "Looking in indexes: https://pypi.org/simple, https://us-python.pkg.dev/colab-wheels/public/simple/\n",
            "Collecting pycrypto\n",
            "  Downloading pycrypto-2.6.1.tar.gz (446 kB)\n",
            "\u001b[K     |████████████████████████████████| 446 kB 10.2 MB/s \n",
            "\u001b[?25hBuilding wheels for collected packages: pycrypto\n",
            "  Building wheel for pycrypto (setup.py) ... \u001b[?25l\u001b[?25hdone\n",
            "  Created wheel for pycrypto: filename=pycrypto-2.6.1-cp37-cp37m-linux_x86_64.whl size=499932 sha256=c07b323f184d2cef063edd1c193803d9b7501fa56d0fdcaca18909162e616756\n",
            "  Stored in directory: /root/.cache/pip/wheels/cf/85/ba/bbd7c96add459de7598fb424e5ff2309baf2095c844ac0f191\n",
            "Successfully built pycrypto\n",
            "Installing collected packages: pycrypto\n",
            "Successfully installed pycrypto-2.6.1\n"
          ]
        }
      ]
    },
    {
      "cell_type": "code",
      "source": [
        "def paddedKey(key):\n",
        "    while len(key) % 8 !=0:\n",
        "        key +=' '\n",
        "    return key"
      ],
      "metadata": {
        "id": "T4QHsnxEHnIF"
      },
      "execution_count": null,
      "outputs": []
    },
    {
      "cell_type": "code",
      "source": [
        "def paddedText(text):\n",
        "    while len(text) % 16 != 0:\n",
        "        text += ' '\n",
        "    return text"
      ],
      "metadata": {
        "id": "k4WT4QUmHwwN"
      },
      "execution_count": null,
      "outputs": []
    },
    {
      "cell_type": "code",
      "source": [
        "plain_input = input(\"Enter the text to be encrypted: \")\n",
        "plain = paddedText(plain_input)"
      ],
      "metadata": {
        "colab": {
          "base_uri": "https://localhost:8080/"
        },
        "id": "zDpiXNoYHzeU",
        "outputId": "02c2d542-bed5-4fbc-ac12-5c8acfcbb7bb"
      },
      "execution_count": null,
      "outputs": [
        {
          "name": "stdout",
          "output_type": "stream",
          "text": [
            "Enter the text to be encrypted: Ketan\n"
          ]
        }
      ]
    },
    {
      "cell_type": "code",
      "source": [
        "key_input = input(\"Enter in a key between 16 and 32 characters: \")\n",
        "key = paddedKey(key_input)"
      ],
      "metadata": {
        "colab": {
          "base_uri": "https://localhost:8080/"
        },
        "id": "yA0sK8XvH2gT",
        "outputId": "b2231e22-fad5-484e-8442-a7aca7143e8f"
      },
      "execution_count": null,
      "outputs": [
        {
          "name": "stdout",
          "output_type": "stream",
          "text": [
            "Enter in a key between 16 and 32 characters: 1234567891234567\n"
          ]
        }
      ]
    },
    {
      "cell_type": "code",
      "source": [
        "if(len(key_input)< 16 & len(key_input)> 32):\n",
        " print(\"key must be between 16 and 32 characters!\")"
      ],
      "metadata": {
        "id": "AoUILDYrH8-_"
      },
      "execution_count": null,
      "outputs": []
    },
    {
      "cell_type": "code",
      "source": [
        "cipher = AES.new(key)\n",
        "ciphertext = cipher.encrypt(plain)\n",
        "print(ciphertext)"
      ],
      "metadata": {
        "colab": {
          "base_uri": "https://localhost:8080/"
        },
        "id": "QyVjV6eZID4J",
        "outputId": "f7c0d9b4-067a-46c9-d2b5-b6ceb893b0c0"
      },
      "execution_count": null,
      "outputs": [
        {
          "output_type": "stream",
          "name": "stdout",
          "text": [
            "b'\\xb9\\x85\\xfe\\xf7\\xf0j\\xeb\\x01C\\xf6\\x97\\xb0\\n\\xfd\\x8e\\xdc'\n"
          ]
        }
      ]
    },
    {
      "cell_type": "code",
      "source": [
        "cleartext = cipher.decrypt(ciphertext)\n",
        "print(cleartext)"
      ],
      "metadata": {
        "colab": {
          "base_uri": "https://localhost:8080/"
        },
        "id": "CQxSyVwsIJM_",
        "outputId": "c694acd2-2bef-4279-ca65-b707f860e410"
      },
      "execution_count": null,
      "outputs": [
        {
          "output_type": "stream",
          "name": "stdout",
          "text": [
            "b'Ketan           '\n"
          ]
        }
      ]
    }
  ]
}